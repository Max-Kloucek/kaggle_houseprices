{
 "cells": [
  {
   "cell_type": "code",
   "execution_count": 49,
   "metadata": {},
   "outputs": [],
   "source": [
    "import pandas as pd\n",
    "import os\n",
    "import seaborn as sns"
   ]
  },
  {
   "cell_type": "code",
   "execution_count": 3,
   "metadata": {},
   "outputs": [],
   "source": [
    "test_df=pd.read_csv(os.path.join('data','test.csv'))\n"
   ]
  },
  {
   "cell_type": "code",
   "execution_count": 8,
   "metadata": {},
   "outputs": [
    {
     "data": {
      "text/plain": [
       "(1459, 80)"
      ]
     },
     "execution_count": 8,
     "metadata": {},
     "output_type": "execute_result"
    }
   ],
   "source": [
    "test_df.shape"
   ]
  },
  {
   "cell_type": "code",
   "execution_count": 14,
   "metadata": {},
   "outputs": [
    {
     "name": "stdout",
     "output_type": "stream",
     "text": [
      "Id\n",
      "MSSubClass\n",
      "MSZoning\n",
      "LotFrontage\n",
      "LotArea\n",
      "Street\n",
      "Alley\n",
      "LotShape\n",
      "LandContour\n",
      "Utilities\n",
      "LotConfig\n",
      "LandSlope\n",
      "Neighborhood\n",
      "Condition1\n",
      "Condition2\n",
      "BldgType\n",
      "HouseStyle\n",
      "OverallQual\n",
      "OverallCond\n",
      "YearBuilt\n",
      "YearRemodAdd\n",
      "RoofStyle\n",
      "RoofMatl\n",
      "Exterior1st\n",
      "Exterior2nd\n",
      "MasVnrType\n",
      "MasVnrArea\n",
      "ExterQual\n",
      "ExterCond\n",
      "Foundation\n",
      "BsmtQual\n",
      "BsmtCond\n",
      "BsmtExposure\n",
      "BsmtFinType1\n",
      "BsmtFinSF1\n",
      "BsmtFinType2\n",
      "BsmtFinSF2\n",
      "BsmtUnfSF\n",
      "TotalBsmtSF\n",
      "Heating\n",
      "HeatingQC\n",
      "CentralAir\n",
      "Electrical\n",
      "1stFlrSF\n",
      "2ndFlrSF\n",
      "LowQualFinSF\n",
      "GrLivArea\n",
      "BsmtFullBath\n",
      "BsmtHalfBath\n",
      "FullBath\n",
      "HalfBath\n",
      "BedroomAbvGr\n",
      "KitchenAbvGr\n",
      "KitchenQual\n",
      "TotRmsAbvGrd\n",
      "Functional\n",
      "Fireplaces\n",
      "FireplaceQu\n",
      "GarageType\n",
      "GarageYrBlt\n",
      "GarageFinish\n",
      "GarageCars\n",
      "GarageArea\n",
      "GarageQual\n",
      "GarageCond\n",
      "PavedDrive\n",
      "WoodDeckSF\n",
      "OpenPorchSF\n",
      "EnclosedPorch\n",
      "3SsnPorch\n",
      "ScreenPorch\n",
      "PoolArea\n",
      "PoolQC\n",
      "Fence\n",
      "MiscFeature\n",
      "MiscVal\n",
      "MoSold\n",
      "YrSold\n",
      "SaleType\n",
      "SaleCondition\n"
     ]
    }
   ],
   "source": [
    "test_df.head\n",
    "#sns.distplot(test_df[\"LotShape\"])\n",
    "\n",
    "for columns in test_df.columns:\n",
    "    print(columns)"
   ]
  },
  {
   "cell_type": "code",
   "execution_count": 16,
   "metadata": {},
   "outputs": [
    {
     "data": {
      "text/plain": [
       "array([dtype('int64'), dtype('O'), dtype('float64')], dtype=object)"
      ]
     },
     "execution_count": 16,
     "metadata": {},
     "output_type": "execute_result"
    }
   ],
   "source": [
    "test_df.dtypes.unique()"
   ]
  },
  {
   "cell_type": "code",
   "execution_count": 41,
   "metadata": {},
   "outputs": [],
   "source": [
    "object_columns=pd.DataFrame((test_df.dtypes=='O'))"
   ]
  },
  {
   "cell_type": "code",
   "execution_count": 44,
   "metadata": {},
   "outputs": [],
   "source": [
    "object_columns=pd.Series(object_columns.loc[:,0])"
   ]
  },
  {
   "cell_type": "code",
   "execution_count": 47,
   "metadata": {},
   "outputs": [
    {
     "data": {
      "text/plain": [
       "True     43\n",
       "False    37\n",
       "Name: 0, dtype: int64"
      ]
     },
     "execution_count": 47,
     "metadata": {},
     "output_type": "execute_result"
    }
   ],
   "source": [
    "object_columns.value_counts()"
   ]
  },
  {
   "cell_type": "code",
   "execution_count": 48,
   "metadata": {},
   "outputs": [
    {
     "data": {
      "text/plain": [
       "Id             False\n",
       "MSSubClass     False\n",
       "MSZoning        True\n",
       "LotFrontage    False\n",
       "LotArea        False\n",
       "Name: 0, dtype: bool"
      ]
     },
     "execution_count": 48,
     "metadata": {},
     "output_type": "execute_result"
    }
   ],
   "source": []
  },
  {
   "cell_type": "code",
   "execution_count": null,
   "metadata": {},
   "outputs": [],
   "source": [
    "condition_factors=[\"OverallQual\", #quality of finish\n",
    "                   \"OverallCond\", #condition of house\n",
    "                  \"YearBuilt\",\n",
    "                  ] "
   ]
  },
  {
   "cell_type": "code",
   "execution_count": 51,
   "metadata": {},
   "outputs": [
    {
     "data": {
      "text/plain": [
       "<matplotlib.axes._subplots.AxesSubplot at 0x18025df1688>"
      ]
     },
     "execution_count": 51,
     "metadata": {},
     "output_type": "execute_result"
    },
    {
     "data": {
      "image/png": "[encoded data removed]",
      "text/plain": [
       "<Figure size 432x288 with 1 Axes>"
      ]
     },
     "metadata": {
      "needs_background": "light"
     },
     "output_type": "display_data"
    }
   ],
   "source": [
    "sns.distplot(test_df[\"OverallQual\"])"
   ]
  },
  {
   "cell_type": "code",
   "execution_count": 52,
   "metadata": {},
   "outputs": [
    {
     "data": {
      "text/plain": [
       "<matplotlib.axes._subplots.AxesSubplot at 0x18025f60fc8>"
      ]
     },
     "execution_count": 52,
     "metadata": {},
     "output_type": "execute_result"
    },
    {
     "data": {
      "image/png": "[encoded data removed]",
      "text/plain": [
       "<Figure size 432x288 with 1 Axes>"
      ]
     },
     "metadata": {
      "needs_background": "light"
     },
     "output_type": "display_data"
    }
   ],
   "source": [
    "sns.distplot(test_df[\"OverallCond\"])"
   ]
  },
  {
   "cell_type": "code",
   "execution_count": 53,
   "metadata": {},
   "outputs": [
    {
     "data": {
      "text/plain": [
       "<matplotlib.axes._subplots.AxesSubplot at 0x180230f6c48>"
      ]
     },
     "execution_count": 53,
     "metadata": {},
     "output_type": "execute_result"
    },
    {
     "data": {
      "image/png": "[encoded data removed]",
      "text/plain": [
       "<Figure size 432x288 with 1 Axes>"
      ]
     },
     "metadata": {
      "needs_background": "light"
     },
     "output_type": "display_data"
    }
   ],
   "source": [
    "sns.distplot(test_df[\"YearBuilt\"])"
   ]
  },
  {
   "cell_type": "code",
   "execution_count": 55,
   "metadata": {},
   "outputs": [
    {
     "data": {
      "text/plain": [
       "<matplotlib.axes._subplots.AxesSubplot at 0x180263a7188>"
      ]
     },
     "execution_count": 55,
     "metadata": {},
     "output_type": "execute_result"
    },
    {
     "data": {
      "image/png": "[encoded data removed]",
      "text/plain": [
       "<Figure size 432x288 with 1 Axes>"
      ]
     },
     "metadata": {
      "needs_background": "light"
     },
     "output_type": "display_data"
    }
   ],
   "source": [
    "sns.distplot(test_df[\"LotArea\"])"
   ]
  },
  {
   "cell_type": "code",
   "execution_count": 58,
   "metadata": {},
   "outputs": [
    {
     "data": {
      "text/plain": [
       "AllPub    1457\n",
       "Name: Utilities, dtype: int64"
      ]
     },
     "execution_count": 58,
     "metadata": {},
     "output_type": "execute_result"
    }
   ],
   "source": [
    "test_df[\"Utilities\"].value_counts()"
   ]
  },
  {
   "cell_type": "code",
   "execution_count": 65,
   "metadata": {},
   "outputs": [
    {
     "data": {
      "text/plain": [
       "AllPub    1457\n",
       "Name: Utilities, dtype: int64"
      ]
     },
     "execution_count": 65,
     "metadata": {},
     "output_type": "execute_result"
    }
   ],
   "source": [
    "utilities=test_df[\"Utilities\"].value_counts()\n",
    "\n",
    "#utilities.plot(kind=\"density\")"
   ]
  },
  {
   "cell_type": "code",
   "execution_count": 67,
   "metadata": {},
   "outputs": [
    {
     "ename": "NameError",
     "evalue": "name 'corr' is not defined",
     "output_type": "error",
     "traceback": [
      "\u001b[1;31m---------------------------------------------------------------------------\u001b[0m",
      "\u001b[1;31mNameError\u001b[0m                                 Traceback (most recent call last)",
      "\u001b[1;32m<ipython-input-67-c0cb1d501813>\u001b[0m in \u001b[0;36m<module>\u001b[1;34m\u001b[0m\n\u001b[1;32m----> 1\u001b[1;33m \u001b[0msns\u001b[0m\u001b[1;33m.\u001b[0m\u001b[0mheatmap\u001b[0m\u001b[1;33m(\u001b[0m\u001b[0mcorr\u001b[0m\u001b[1;33m,\u001b[0m\u001b[0mtest_df\u001b[0m\u001b[1;33m)\u001b[0m\u001b[1;33m\u001b[0m\u001b[1;33m\u001b[0m\u001b[0m\n\u001b[0m",
      "\u001b[1;31mNameError\u001b[0m: name 'corr' is not defined"
     ]
    }
   ],
   "source": [
    "sns.heatmap(corr,test_df)"
   ]
  },
  {
   "cell_type": "code",
   "execution_count": 68,
   "metadata": {},
   "outputs": [],
   "source": [
    "corr = test_df.corr()\n"
   ]
  },
  {
   "cell_type": "code",
   "execution_count": 71,
   "metadata": {},
   "outputs": [
    {
     "data": {
      "text/plain": [
       "<matplotlib.axes._subplots.AxesSubplot at 0x180258f6948>"
      ]
     },
     "execution_count": 71,
     "metadata": {},
     "output_type": "execute_result"
    },
    {
     "data": {
      "image/png": "[encoded data removed]",
      "text/plain": [
       "<Figure size 432x288 with 2 Axes>"
      ]
     },
     "metadata": {
      "needs_background": "light"
     },
     "output_type": "display_data"
    }
   ],
   "source": [
    "sns.heatmap(corr)"
   ]
  },
  {
   "cell_type": "code",
   "execution_count": 94,
   "metadata": {},
   "outputs": [],
   "source": [
    "correlations_threshold=0.5\n",
    "highly_correlated_values=[]\n",
    "for column in corr.columns:\n",
    "    for row in corr.index:\n",
    "        correlation=corr.loc[row,column]\n",
    "        if abs(correlation)>correlations_threshold:\n",
    "            if row!=column:\n",
    "                highly_correlated_values.append(row+\" \"+column)"
   ]
  },
  {
   "cell_type": "code",
   "execution_count": 95,
   "metadata": {},
   "outputs": [
    {
     "data": {
      "text/plain": [
       "['YrSold Id',\n",
       " 'LotArea LotFrontage',\n",
       " 'LotFrontage LotArea',\n",
       " 'YearBuilt OverallQual',\n",
       " 'YearRemodAdd OverallQual',\n",
       " 'TotalBsmtSF OverallQual',\n",
       " 'GrLivArea OverallQual',\n",
       " 'FullBath OverallQual',\n",
       " 'GarageYrBlt OverallQual',\n",
       " 'GarageCars OverallQual',\n",
       " 'GarageArea OverallQual',\n",
       " 'OverallQual YearBuilt',\n",
       " 'YearRemodAdd YearBuilt',\n",
       " 'GarageYrBlt YearBuilt',\n",
       " 'GarageCars YearBuilt',\n",
       " 'OverallQual YearRemodAdd',\n",
       " 'YearBuilt YearRemodAdd',\n",
       " 'GarageYrBlt YearRemodAdd',\n",
       " 'TotalBsmtSF BsmtFinSF1',\n",
       " 'BsmtFullBath BsmtFinSF1',\n",
       " 'OverallQual TotalBsmtSF',\n",
       " 'BsmtFinSF1 TotalBsmtSF',\n",
       " '1stFlrSF TotalBsmtSF',\n",
       " 'TotalBsmtSF 1stFlrSF',\n",
       " 'GrLivArea 1stFlrSF',\n",
       " 'GrLivArea 2ndFlrSF',\n",
       " 'HalfBath 2ndFlrSF',\n",
       " 'BedroomAbvGr 2ndFlrSF',\n",
       " 'TotRmsAbvGrd 2ndFlrSF',\n",
       " 'OverallQual GrLivArea',\n",
       " '1stFlrSF GrLivArea',\n",
       " '2ndFlrSF GrLivArea',\n",
       " 'FullBath GrLivArea',\n",
       " 'BedroomAbvGr GrLivArea',\n",
       " 'TotRmsAbvGrd GrLivArea',\n",
       " 'GarageCars GrLivArea',\n",
       " 'GarageArea GrLivArea',\n",
       " 'BsmtFinSF1 BsmtFullBath',\n",
       " 'OverallQual FullBath',\n",
       " 'GrLivArea FullBath',\n",
       " 'TotRmsAbvGrd FullBath',\n",
       " 'GarageYrBlt FullBath',\n",
       " '2ndFlrSF HalfBath',\n",
       " '2ndFlrSF BedroomAbvGr',\n",
       " 'GrLivArea BedroomAbvGr',\n",
       " 'TotRmsAbvGrd BedroomAbvGr',\n",
       " '2ndFlrSF TotRmsAbvGrd',\n",
       " 'GrLivArea TotRmsAbvGrd',\n",
       " 'FullBath TotRmsAbvGrd',\n",
       " 'BedroomAbvGr TotRmsAbvGrd',\n",
       " 'OverallQual GarageYrBlt',\n",
       " 'YearBuilt GarageYrBlt',\n",
       " 'YearRemodAdd GarageYrBlt',\n",
       " 'FullBath GarageYrBlt',\n",
       " 'GarageCars GarageYrBlt',\n",
       " 'GarageArea GarageYrBlt',\n",
       " 'OverallQual GarageCars',\n",
       " 'YearBuilt GarageCars',\n",
       " 'GrLivArea GarageCars',\n",
       " 'GarageYrBlt GarageCars',\n",
       " 'GarageArea GarageCars',\n",
       " 'OverallQual GarageArea',\n",
       " 'GrLivArea GarageArea',\n",
       " 'GarageYrBlt GarageArea',\n",
       " 'GarageCars GarageArea',\n",
       " 'Id YrSold']"
      ]
     },
     "execution_count": 95,
     "metadata": {},
     "output_type": "execute_result"
    }
   ],
   "source": [
    "highly_correlated_values"
   ]
  },
  {
   "cell_type": "code",
   "execution_count": 74,
   "metadata": {},
   "outputs": [
    {
     "data": {
      "text/plain": [
       "[[]]"
      ]
     },
     "execution_count": 74,
     "metadata": {},
     "output_type": "execute_result"
    }
   ],
   "source": []
  },
  {
   "cell_type": "code",
   "execution_count": null,
   "metadata": {},
   "outputs": [],
   "source": []
  }
 ],
 "metadata": {
  "kernelspec": {
   "display_name": "Python 3",
   "language": "python",
   "name": "python3"
  },
  "language_info": {
   "codemirror_mode": {
    "name": "ipython",
    "version": 3
   },
   "file_extension": ".py",
   "mimetype": "text/x-python",
   "name": "python",
   "nbconvert_exporter": "python",
   "pygments_lexer": "ipython3",
   "version": "3.8.1"
  }
 },
 "nbformat": 4,
 "nbformat_minor": 4
}
